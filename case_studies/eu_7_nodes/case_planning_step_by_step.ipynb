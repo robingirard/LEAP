{
 "cells": [
  {
   "cell_type": "markdown",
   "id": "6d27e009-454b-4554-be2b-32570ee72931",
   "metadata": {},
   "source": [
    "#TODO : Add a description of the notebook\n",
    "#TODO : Fix part 5 production plot (i.e. the inclusion of storage)\n",
    "#TODO : Add a few plots"
   ]
  },
  {
   "cell_type": "code",
   "execution_count": null,
   "id": "ee63d93c-1a79-4619-afcb-c355e60fe52b",
   "metadata": {},
   "outputs": [],
   "source": []
  },
  {
   "cell_type": "markdown",
   "id": "8d55bac7-400a-40f3-8166-0b57965979fd",
   "metadata": {
    "jp-MarkdownHeadingCollapsed": true
   },
   "source": [
    "# Imports area"
   ]
  },
  {
   "cell_type": "code",
   "execution_count": null,
   "id": "initial_id",
   "metadata": {
    "ExecuteTime": {
     "end_time": "2023-11-30T12:23:01.684860700Z",
     "start_time": "2023-11-30T12:23:01.643250700Z"
    }
   },
   "outputs": [],
   "source": [
    "import os\n",
    "from pathlib import Path\n",
    "\n",
    "# Check if the current directory is named \"eu_7_nodes\"\n",
    "current_path = Path.cwd()\n",
    "if current_path.name == \"eu_7_nodes\":\n",
    "    # Go two directories back\n",
    "    new_path = current_path.parent.parent\n",
    "    print(f\"Changing to directory: {new_path}\")\n",
    "    \n",
    "    # Change the current directory\n",
    "    os.chdir(new_path)\n",
    "    print(f\"Current directory after change: {Path.cwd()}\")\n",
    "\n",
    "else:\n",
    "    print(\"Current directory is not 'eu_7_nodes'. No change needed.\")\n",
    "    print(f\"Current directory: {current_path}\")\n"
   ]
  },
  {
   "cell_type": "code",
   "execution_count": null,
   "id": "f18a0069e9caa56e",
   "metadata": {
    "ExecuteTime": {
     "end_time": "2023-11-30T12:23:18.692090300Z",
     "start_time": "2023-11-30T12:23:11.913711800Z"
    },
    "collapsed": false,
    "jupyter": {
     "outputs_hidden": false
    }
   },
   "outputs": [],
   "source": [
    "import os\n",
    "import sys\n",
    "import pandas as pd\n",
    "import linopy\n",
    "#import highspy  # If using highs solver\n",
    "\n",
    "pd.options.display.width = 0\n",
    "pd.set_option('display.max_rows', 500)\n",
    "pd.set_option('display.max_columns', 500)\n",
    "pd.set_option('display.width', 1000)\n",
    "\n",
    "from LEAP.f_graphicalTools import *\n",
    "from LEAP.f_demand_tools import *\n",
    "from LEAP.f_tools import *\n",
    "from LEAP.model_single_horizon_multi_energy import build_single_horizon_multi_energy_LEAP_model\n",
    "\n",
    "sys.path.extend(['.'])"
   ]
  },
  {
   "cell_type": "markdown",
   "id": "d1491cfe-c1e4-4d85-8f9d-2d2fc8d19d93",
   "metadata": {
    "jp-MarkdownHeadingCollapsed": true
   },
   "source": [
    "## Study setup"
   ]
  },
  {
   "cell_type": "code",
   "execution_count": null,
   "id": "8feefb7c-7219-43ce-b5d6-32daf2c09bb0",
   "metadata": {},
   "outputs": [],
   "source": [
    "scenario = \"reference\"\n",
    "xls_7_nodes_file_ID = \"EU_7_2050_\" + scenario\n",
    "# xls_7_nodes_file_ID = \"EU_7_2050\""
   ]
  },
  {
   "cell_type": "code",
   "execution_count": null,
   "id": "636b8770-f36e-42be-b133-e60ef16eef3a",
   "metadata": {},
   "outputs": [],
   "source": [
    "# Create graphical results directory\n",
    "graphical_results_folder = \"case_studies/eu_7_nodes/graphical_results/\"\n",
    "if not os.path.exists(graphical_results_folder):\n",
    "    os.makedirs(graphical_results_folder)\n",
    "\n",
    "# Load input data (only load missing files)\n",
    "input_data_folder = \"case_studies/eu_7_nodes/data/\"\n",
    "download_input_data(input_data_folder, verbose=True)"
   ]
  },
  {
   "cell_type": "markdown",
   "id": "919b70ec-4321-4f32-aeba-619312fd766e",
   "metadata": {},
   "source": [
    "# Step by step study"
   ]
  },
  {
   "cell_type": "markdown",
   "id": "fe46ccfd-d523-40c8-b4b3-2426de2fb29c",
   "metadata": {
    "jp-MarkdownHeadingCollapsed": true
   },
   "source": [
    "## I - Simple single area (with ramp) : \n"
   ]
  },
  {
   "cell_type": "markdown",
   "id": "5c75c0b9-c65b-49f1-9b15-e0e8272cb3bf",
   "metadata": {},
   "source": [
    "### Loading parameters"
   ]
  },
  {
   "cell_type": "code",
   "execution_count": null,
   "id": "7bf764be-7143-4ba5-b1db-edc5ed5b0b49",
   "metadata": {},
   "outputs": [],
   "source": [
    "selected_area_to = [\"FR\"]\n",
    "selected_conversion_technology = ['old_nuke', 'ccgt', 'demand_not_served']  # You'll add 'solar' after\n",
    "# selected_conversion_technology = ['old_nuke', 'wind_power_on_shore', 'ccgt', 'demand_not_served', 'hydro_river', 'hydro_reservoir', 'solar']  # Try adding 'hydro_river', 'hydro_reservoir'\n",
    "\n",
    "parameters = read_EAP_input_parameters(\n",
    "    selected_area_to = selected_area_to,\n",
    "    selected_conversion_technology = selected_conversion_technology,\n",
    "    input_data_folder = input_data_folder,\n",
    "    file_id = xls_7_nodes_file_ID,\n",
    "    is_storage = False,\n",
    "    is_demand_management = False\n",
    ")\n",
    "\n",
    "parameters[\"operation_min_1h_ramp_rate\"].loc[{\"conversion_technology\" :\"old_nuke\"}] = 0.02\n",
    "parameters[\"operation_max_1h_ramp_rate\"].loc[{\"conversion_technology\" :\"ccgt\"}] = 0.05\n",
    "parameters[\"planning_conversion_max_capacity\"].loc[{\"conversion_technology\" :\"old_nuke\"}] = 80000\n",
    "parameters[\"planning_conversion_max_capacity\"].loc[{\"conversion_technology\" :\"ccgt\"}] = 80000\n"
   ]
  },
  {
   "cell_type": "markdown",
   "id": "28a2a7cb-b5fb-452f-bde3-29bfdb747fe5",
   "metadata": {},
   "source": [
    "### Building model and solving the problem"
   ]
  },
  {
   "cell_type": "code",
   "execution_count": null,
   "id": "9d1c8db2-c22e-439d-822b-f46a321b5424",
   "metadata": {},
   "outputs": [],
   "source": [
    "# Build & solve model\n",
    "model = build_single_horizon_multi_energy_LEAP_model(parameters=parameters)\n",
    "model.solve(solver_name='gurobi')"
   ]
  },
  {
   "cell_type": "code",
   "execution_count": null,
   "id": "99bf82a0-acbf-44bb-87f3-06d45268ed05",
   "metadata": {},
   "outputs": [],
   "source": [
    "# Synthèse Energie/Puissance/Coûts\n",
    "print(extractCosts_l(model))\n",
    "print()\n",
    "print(extractEnergyCapacity_l(model))"
   ]
  },
  {
   "cell_type": "code",
   "execution_count": null,
   "id": "d94914f7-e5be-4e3e-8873-6148dbdfbeda",
   "metadata": {},
   "outputs": [],
   "source": [
    "# Checksum (production = consumption)\n",
    "assert abs(model.solution['operation_conversion_power'].sum(['conversion_technology']) - parameters['exogenous_energy_demand']).max().values < 10**-3"
   ]
  },
  {
   "cell_type": "markdown",
   "id": "b4d37745-8238-457b-b2af-5e83b7b3fa80",
   "metadata": {},
   "source": [
    "### Series visualization"
   ]
  },
  {
   "cell_type": "code",
   "execution_count": null,
   "id": "1faad654-ab44-4066-86b3-4a930682b6ea",
   "metadata": {},
   "outputs": [],
   "source": [
    "production_df = model.solution['operation_conversion_power'].to_dataframe().reset_index().pivot(\n",
    "    index='date',\n",
    "    columns='conversion_technology',\n",
    "    values='operation_conversion_power'\n",
    ")\n",
    "\n",
    "# Build figure\n",
    "fig = MyStackedPlotly(y_df=production_df, Conso=parameters[\"exogenous_energy_demand\"].to_dataframe())\n",
    "fig = fig.update_layout(title_text=\"Production électrique (en KWh)\", xaxis_title=\"heures de l'année\", autosize=True)\n",
    "\n",
    "# Adjust the figure size\n",
    "fig.update_layout(height=600)\n",
    "fig.show()"
   ]
  },
  {
   "cell_type": "markdown",
   "id": "2b6edd65-ea5c-4978-aeab-dd1a49bab86b",
   "metadata": {
    "jp-MarkdownHeadingCollapsed": true
   },
   "source": [
    "## II - Addition of Storage to single area with ramp :"
   ]
  },
  {
   "cell_type": "markdown",
   "id": "43dc2eaa-6926-4011-9022-4545cb95b42a",
   "metadata": {},
   "source": [
    "### Loading parameters"
   ]
  },
  {
   "cell_type": "code",
   "execution_count": null,
   "id": "fc30671c-2f46-4be6-8b42-774f02726b23",
   "metadata": {},
   "outputs": [],
   "source": [
    "selected_area_to = ['FR']\n",
    "selected_conversion_technology = ['old_nuke', 'wind_power_on_shore', 'ocgt', 'ccgt', 'demand_not_served', 'hydro_river', 'hydro_reservoir', 'solar']\n",
    "selected_storage_technology = ['storage_hydro', 'battery']\n",
    "\n",
    "\n",
    "parameters = read_EAP_input_parameters(\n",
    "   selected_area_to = selected_area_to,\n",
    "   selected_conversion_technology = selected_conversion_technology,\n",
    "   selected_storage_technology = selected_storage_technology,\n",
    "   input_data_folder = input_data_folder,\n",
    "   file_id = \"EU_7_2050\",\n",
    "   is_demand_management = False\n",
    ")\n",
    "\n",
    "parameters[\"operation_min_1h_ramp_rate\"].loc[{\"conversion_technology\" :\"old_nuke\"}] = 0.01\n",
    "parameters[\"operation_max_1h_ramp_rate\"].loc[{\"conversion_technology\" :\"old_nuke\"}] = 0.02\n",
    "parameters[\"planning_conversion_max_capacity\"].loc[{\"conversion_technology\" :\"old_nuke\"}]=80000\n",
    "parameters[\"planning_conversion_max_capacity\"].loc[{\"conversion_technology\" :\"ccgt\"}]=50000\n"
   ]
  },
  {
   "cell_type": "markdown",
   "id": "d4b07d0b-6687-4239-9246-93c71feb005d",
   "metadata": {},
   "source": [
    "### Building model and solving the problem"
   ]
  },
  {
   "cell_type": "code",
   "execution_count": null,
   "id": "e7494b2f-6262-4e5b-80f7-a13bff1e26d3",
   "metadata": {
    "scrolled": true
   },
   "outputs": [],
   "source": [
    "# Build & solve model\n",
    "model = build_single_horizon_multi_energy_LEAP_model(parameters=parameters)\n",
    "model.solve(solver_name='gurobi')"
   ]
  },
  {
   "cell_type": "code",
   "execution_count": null,
   "id": "5096ddd6-5ca9-4929-ae91-717b826d4699",
   "metadata": {},
   "outputs": [],
   "source": [
    "# Synthèse Energie/Puissance/Coûts\n",
    "print(extractCosts_l(model))\n",
    "print(extractEnergyCapacity_l(model)['Capacity_GW'])\n",
    "print(extractEnergyCapacity_l(model)['Energy_TWh'])"
   ]
  },
  {
   "cell_type": "code",
   "execution_count": null,
   "id": "1b921b26-3d4c-4872-a62a-2a2becf78e8c",
   "metadata": {},
   "outputs": [],
   "source": [
    "# Checksum (production = consumption)\n",
    "assert abs(model.solution['operation_conversion_power'].sum(['conversion_technology']) - parameters['exogenous_energy_demand']).max().values < 10**-3"
   ]
  },
  {
   "cell_type": "code",
   "execution_count": null,
   "id": "7b893266-eb4d-47f6-b011-4885efad9399",
   "metadata": {},
   "outputs": [],
   "source": [
    "Storage_production_out = model.solution['operation_storage_power_out'].rename({\"storage_technology\": \"conversion_technology\"})\n",
    "Storage_production_out['conversion_technology'] = [st+\"_out\" for st in selected_storage_technology]\n",
    "Storage_production_out.name = \"operation_conversion_power\"\n",
    "\n",
    "Storage_production_in = (-model.solution['operation_storage_power_in']).rename({\"storage_technology\": \"conversion_technology\"})\n",
    "Storage_production_in['conversion_technology'] = [st+\"_in\" for st in selected_storage_technology]\n",
    "Storage_production_in.name = \"operation_conversion_power\"\n",
    "production_xr = xr.concat([model.solution['operation_conversion_power'], Storage_production_out, Storage_production_in], dim=\"conversion_technology\")\n",
    "\n",
    "# Checksum (?)\n",
    "assert abs(production_xr.sum(['conversion_technology']) - parameters['exogenous_energy_demand']).max() < 10**-3"
   ]
  },
  {
   "cell_type": "markdown",
   "id": "3e92545e-07a9-408a-8f0c-3e9686e37db8",
   "metadata": {},
   "source": [
    "### Series visualization"
   ]
  },
  {
   "cell_type": "code",
   "execution_count": null,
   "id": "ec42862b-c80c-43fe-8320-f0293516fe7a",
   "metadata": {},
   "outputs": [],
   "source": [
    "production_df = production_xr.to_dataframe().reset_index().pivot(\n",
    "    index = 'date',\n",
    "    columns = 'conversion_technology',\n",
    "    values = 'operation_conversion_power'\n",
    ")\n",
    "\n",
    "# Build figure\n",
    "fig = MyStackedPlotly(y_df=production_df, Conso=parameters[\"exogenous_energy_demand\"].to_dataframe())\n",
    "fig = fig.update_layout(title_text=\"Production électrique (en KWh)\", xaxis_title=\"heures de l'année\", autosize=True)\n",
    "\n",
    "# Adjust the figure size\n",
    "fig.update_layout(height=600)\n",
    "fig.show()"
   ]
  },
  {
   "cell_type": "markdown",
   "id": "cad9e169-510a-4130-87d6-505fc18f6072",
   "metadata": {
    "jp-MarkdownHeadingCollapsed": true
   },
   "source": [
    "## III - Multi-zone without storage :"
   ]
  },
  {
   "cell_type": "markdown",
   "id": "24f07c1d-f722-4f8a-8782-202aee2b0400",
   "metadata": {},
   "source": [
    "### Loading parameters"
   ]
  },
  {
   "cell_type": "code",
   "execution_count": null,
   "id": "c28e0e93-b904-4a95-b013-6bf4e01253cf",
   "metadata": {},
   "outputs": [],
   "source": [
    "selected_area_to = [\"FR\", \"DE\"]\n",
    "selected_conversion_technology = ['old_nuke', 'ccgt', 'wind_power_on_shore', \"demand_not_served\"]  # You'll add 'solar' after #'new_nuke', 'hydro_river', 'hydro_reservoir','wind_power_on_shore', 'wind_power_off_shore', 'solar', 'Curtailement'}\n",
    "# selected_conversion_technology = ['old_nuke', 'wind_power_on_shore', 'ccgt', \"demand_not_served\", 'hydro_river', 'hydro_reservoir', \"solar\"]  # Try adding 'hydro_river', 'hydro_reservoir'\n",
    "\n",
    "parameters = read_EAP_input_parameters(\n",
    "    selected_area_to = selected_area_to,\n",
    "    selected_conversion_technology = selected_conversion_technology,\n",
    "    input_data_folder = input_data_folder,\n",
    "    file_id = \"EU_7_2050\",\n",
    "    is_storage = False,\n",
    "    is_demand_management = False\n",
    ")\n",
    "\n",
    "parameters[\"operation_min_1h_ramp_rate\"].loc[{\"conversion_technology\": \"old_nuke\"}] = 0.01\n",
    "parameters[\"operation_max_1h_ramp_rate\"].loc[{\"conversion_technology\": \"old_nuke\"}] = 0.02\n",
    "parameters[\"planning_conversion_max_capacity\"].loc[{\"conversion_technology\": \"old_nuke\"}] = 80000\n",
    "parameters[\"planning_conversion_max_capacity\"].loc[{\"conversion_technology\": \"ccgt\"}] = 50000"
   ]
  },
  {
   "cell_type": "markdown",
   "id": "db10ee68-3ff1-46ae-a093-96dcabf440f5",
   "metadata": {},
   "source": [
    "### Building model and solving the problem"
   ]
  },
  {
   "cell_type": "code",
   "execution_count": null,
   "id": "a98e4206-d265-4fcb-8ba3-d60fa26f9b34",
   "metadata": {},
   "outputs": [],
   "source": [
    "# Build model\n",
    "model = build_single_horizon_multi_energy_LEAP_model(parameters=parameters)\n",
    "\n",
    "# Solve model\n",
    "model.solve(solver_name='gurobi')\n",
    "# model.solve(solver_name='highs', parallel='on')\n",
    "\n",
    "# res = run_highs(model) #res= linopy.solvers.run_highs(model)"
   ]
  },
  {
   "cell_type": "markdown",
   "id": "6c48b798-b815-4721-ab61-4a9f65851614",
   "metadata": {},
   "source": [
    "### Synthesis : Power / Energy / Costs"
   ]
  },
  {
   "cell_type": "code",
   "execution_count": null,
   "id": "5681c2f5-829f-4999-8698-3cb398a31dac",
   "metadata": {},
   "outputs": [],
   "source": [
    "print(extractCosts_l(model))\n",
    "print(extractEnergyCapacity_l(model))"
   ]
  },
  {
   "cell_type": "code",
   "execution_count": null,
   "id": "b830d9a9-f130-40fc-a711-c5135770f8f0",
   "metadata": {},
   "outputs": [],
   "source": [
    "# Checksum (production = consumption)\n",
    "production_df = EnergyAndExchange2Prod(model)\n",
    "assert abs(production_df.sum(axis=1) - parameters['exogenous_energy_demand'].to_dataframe()[\"exogenous_energy_demand\"]).max() < 10**-3"
   ]
  },
  {
   "cell_type": "markdown",
   "id": "ea2350af-8ba2-4504-afc0-aa8de6e2b00e",
   "metadata": {},
   "source": [
    "### Series visualization"
   ]
  },
  {
   "cell_type": "code",
   "execution_count": null,
   "id": "de66a61a-89bb-453e-8d95-72dee0c77eaa",
   "metadata": {},
   "outputs": [],
   "source": [
    "# Build figure\n",
    "fig = MyAreaStackedPlot(df_=production_df, Conso=parameters[\"exogenous_energy_demand\"].to_dataframe())\n",
    "fig = fig.update_layout(title_text=\"Production électrique (en KWh)\", xaxis_title=\"heures de l'année\", autosize=True)\n",
    "\n",
    "# Adjust the figure size\n",
    "fig.update_layout( height=600)\n",
    "fig.show()"
   ]
  },
  {
   "cell_type": "markdown",
   "id": "ddc89c93-aa82-4582-b640-176b8acb959b",
   "metadata": {
    "jp-MarkdownHeadingCollapsed": true
   },
   "source": [
    "## IV - Simple single area +4 million EV +  demande side management +30TWh H2"
   ]
  },
  {
   "cell_type": "markdown",
   "id": "da39a097-f2cd-44d9-98a0-d37066f8f775",
   "metadata": {},
   "source": [
    "### Loading parameters"
   ]
  },
  {
   "cell_type": "code",
   "execution_count": null,
   "id": "efe3e022-9f50-4a5f-a5c1-7ba88aaad40a",
   "metadata": {},
   "outputs": [],
   "source": [
    "selected_area_to = [\"FR\", \"DE\"]\n",
    "# selected_conversion_technology = ['old_nuke', 'ccgt', 'wind_power_on_shore', 'demand_not_served']  # You'll add 'solar' after #'new_nuke', 'hydro_river', 'hydro_reservoir','wind_power_on_shore', 'wind_power_off_shore', 'solar', 'Curtailement'}\n",
    "selected_conversion_technology = ['old_nuke', 'wind_power_on_shore', 'ccgt', 'demand_not_served', 'hydro_river', 'hydro_reservoir', 'solar']  # Try adding 'hydro_river', 'hydro_reservoir'\n",
    "selected_storage_technology = ['storage_hydro']\n",
    "\n",
    "parameters = read_EAP_input_parameters(\n",
    "   selected_area_to = selected_area_to,\n",
    "   selected_conversion_technology = selected_conversion_technology,\n",
    "   selected_storage_technology = selected_storage_technology,\n",
    "   input_data_folder = input_data_folder,\n",
    "   file_id = \"EU_7_2050\",\n",
    "   is_storage = True,\n",
    "   is_demand_management = True\n",
    ")\n",
    "\n",
    "parameters[\"operation_min_1h_ramp_rate\"].loc[{\"conversion_technology\"   : \"old_nuke\"}] = 0.01\n",
    "parameters[\"operation_max_1h_ramp_rate\"].loc[{\"conversion_technology\"   : \"old_nuke\"}] = 0.02\n",
    "parameters[\"planning_conversion_max_capacity\"].loc[{\"conversion_technology\": \"old_nuke\"}] = 80000\n",
    "parameters[\"planning_conversion_max_capacity\"].loc[{\"conversion_technology\": \"ccgt\"}] = 50000"
   ]
  },
  {
   "cell_type": "markdown",
   "id": "b63b562b-5b88-4079-ab82-a6ec2aac429b",
   "metadata": {},
   "source": [
    "### Building model and solving the problem"
   ]
  },
  {
   "cell_type": "code",
   "execution_count": null,
   "id": "02f97dd5-6b5e-44f0-b675-7698c25fbabc",
   "metadata": {},
   "outputs": [],
   "source": [
    "# Build & solve model\n",
    "model = build_single_horizon_multi_energy_LEAP_model(parameters=parameters)\n",
    "model.solve(solver_name='gurobi')  # Highs not faster than cbc"
   ]
  },
  {
   "cell_type": "markdown",
   "id": "aabcb815-0dcb-413d-aee6-6b2ebb1c83dd",
   "metadata": {},
   "source": [
    "### Synthesis : Power / Energy / Costs"
   ]
  },
  {
   "cell_type": "code",
   "execution_count": null,
   "id": "cb57346e-cb86-4fa2-ba10-5a6b4e85ee13",
   "metadata": {
    "scrolled": true
   },
   "outputs": [],
   "source": [
    "print(extractCosts_l(model))\n",
    "print(extractEnergyCapacity_l(model))"
   ]
  },
  {
   "cell_type": "code",
   "execution_count": null,
   "id": "9434144b-df80-4c01-b6dd-ac6e6272d3f9",
   "metadata": {},
   "outputs": [],
   "source": [
    "# Checksum (production = consumption) (?)\n",
    "Prod_minus_conso = model.solution['operation_conversion_power'].sum(['conversion_technology']) - parameters['exogenous_energy_demand'] + model.solution['operation_storage_power_out'].sum(['storage_technology']) - model.solution['operation_storage_power_in'].sum(['storage_technology']) ## Storage\n",
    "assert abs(Prod_minus_conso).max() < 10**-3"
   ]
  },
  {
   "cell_type": "code",
   "execution_count": null,
   "id": "bc18f85b-e128-4883-81bf-ca8e624753e5",
   "metadata": {},
   "outputs": [],
   "source": [
    "Storage_production = (model.solution['operation_storage_power_out'] - model.solution['operation_storage_power_in']).rename({\"storage_technology\":\"conversion_technology\"})\n",
    "Storage_production.name = \"operation_conversion_power\""
   ]
  },
  {
   "cell_type": "markdown",
   "id": "3e63c06c-ee6e-44a2-af66-f71e5cc295ff",
   "metadata": {},
   "source": [
    "### Serie visualization"
   ]
  },
  {
   "cell_type": "code",
   "execution_count": null,
   "id": "0f6f9fa1-c693-472a-8ccc-481f4d148f3e",
   "metadata": {},
   "outputs": [],
   "source": [
    "production_df = production_xr.to_dataframe().reset_index().pivot(\n",
    "    index=\"date\",\n",
    "    columns='conversion_technology',\n",
    "    values='operation_conversion_power'\n",
    ")\n",
    "\n",
    "# Build figure\n",
    "fig = MyStackedPlotly(y_df=production_df, Conso=parameters['exogenous_energy_demand'].to_dataframe())\n",
    "fig = fig.update_layout(title_text=\"Production électrique (en KWh)\", xaxis_title=\"heures de l'année\", autosize=True)\n",
    "\n",
    "# Adjust the figure size\n",
    "fig.update_layout( height=600)\n",
    "fig.show()"
   ]
  },
  {
   "cell_type": "markdown",
   "id": "be678510-61c7-41bf-9e0b-fbeee91bd630",
   "metadata": {
    "jp-MarkdownHeadingCollapsed": true,
    "scrolled": true
   },
   "source": [
    "## V - 7 nodes EU model :"
   ]
  },
  {
   "cell_type": "markdown",
   "id": "1cbe427b-eef8-4061-aab6-caafbc6fcca5",
   "metadata": {},
   "source": [
    "### Loading parameters"
   ]
  },
  {
   "cell_type": "code",
   "execution_count": null,
   "id": "73a5ec48-438f-4a90-a772-b145156e8054",
   "metadata": {},
   "outputs": [],
   "source": [
    "graphical_results_folder = \"case_studies/Basic_France_Germany_models/Planning_optimisation/GraphicalResults/\"\n",
    "# selected_conversion_technology = ['old_nuke', 'ccgt', 'wind_power_on_shore', 'demand_not_served']  # You'll add 'solar' after #'new_nuke', 'hydro_river', 'hydro_reservoir','wind_power_on_shore', 'wind_power_off_shore', 'solar', 'Curtailement'}\n",
    "selected_conversion_technology = ['old_nuke', 'wind_power_on_shore', 'ccgt', 'ocgt', 'demand_not_served', 'hydro_river', 'hydro_reservoir', 'solar']  # Try adding 'hydro_river', 'hydro_reservoir'\n",
    "selected_storage_technology = ['storage_hydro', 'battery']\n",
    "\n",
    "pays = 'FR'\n",
    "scenario = 'Nuke-'\n",
    "parameters = read_EAP_input_parameters(\n",
    "   selected_area_to = None,\n",
    "   selected_conversion_technology = selected_conversion_technology,\n",
    "   selected_storage_technology = selected_storage_technology,\n",
    "   input_data_folder = input_data_folder,\n",
    "   file_id = \"EU_7_2050_\" + scenario,\n",
    "   is_storage = True,\n",
    "   is_demand_management = True\n",
    ")\n",
    "\n",
    "parameters[\"operation_min_1h_ramp_rate\"].loc[{\"conversion_technology\": \"old_nuke\"}] = 0.25\n",
    "parameters[\"operation_max_1h_ramp_rate\"].loc[{\"conversion_technology\": \"old_nuke\"}] = 0.25\n",
    "#parameters[\"planning_conversion_max_capacity\"].loc[{\"conversion_technology\": \"old_nuke\"}] = 80000\n",
    "#parameters[\"planning_conversion_max_capacity\"].loc[{\"conversion_technology\": \"ccgt\"}] = 50000\n",
    "#parameters[\"planning_conversion_max_capacity\"].loc[{\"conversion_technology\": \"old_nuke\"}]\n",
    "parameters[\"flexible_demand_to_optimise\"].to_dataframe().groupby([\"flexible_demand\", \"area_to\"]).sum() / 10**6\n",
    "\n",
    "# TODO\n",
    "list(parameters.keys())\n",
    "year = 2018"
   ]
  },
  {
   "cell_type": "markdown",
   "id": "9c48729d-5dd1-4437-aab7-1bf4b16fd162",
   "metadata": {},
   "source": [
    "### Building model and solving the problem"
   ]
  },
  {
   "cell_type": "code",
   "execution_count": null,
   "id": "3db838cf-bc93-44d8-8075-eb4e44953571",
   "metadata": {},
   "outputs": [],
   "source": [
    "# Build model\n",
    "model = build_single_horizon_multi_energy_LEAP_model(parameters=parameters)\n",
    "\n",
    "# Solve model\n",
    "model.solve(solver_name='gurobi')  # gurobi: 7 minutes; highs: 24 hours\n",
    "# model.solve(solver_name='highs', parallel='on')\n",
    "# model.solve(solver_name='cplex')\n",
    "\n",
    "# res = run_highs(model)  # res = linopy.solvers.run_highs(model)"
   ]
  },
  {
   "cell_type": "markdown",
   "id": "c0fce81c-a710-4a52-889f-c4847fec5a93",
   "metadata": {},
   "source": [
    "### Synthesis : Power / Energy / Costs"
   ]
  },
  {
   "cell_type": "code",
   "execution_count": null,
   "id": "d772dbbb-e789-41ac-a574-c162973112c3",
   "metadata": {
    "scrolled": true
   },
   "outputs": [],
   "source": [
    "print(extractCosts_l(model))\n",
    "print(extractEnergyCapacity_l(model)['Capacity_GW'])\n",
    "print(extractEnergyCapacity_l(model)['Energy_TWh'])\n",
    "Battery_energy_in_TWh = extractEnergyCapacity_l(model)['Energy_TWh'].loc[(slice(None), slice(None), \"battery\", \"storage_in\")]['Energy_TWh']  # TODO: KeyError: 'battery'\n",
    "Battery_capacity_GW = extractEnergyCapacity_l(model)['Capacity_GW'].loc[(slice(None), slice(None), \"battery\", \"storage_capacity\")]['Capacity_GW']\n",
    "(Battery_energy_in_TWh * 1000) / (Battery_capacity_GW * 4)"
   ]
  },
  {
   "cell_type": "markdown",
   "id": "b0f5037c-416b-4961-ae6a-a5c0b84bb725",
   "metadata": {},
   "source": [
    "### Serie visualization"
   ]
  },
  {
   "cell_type": "code",
   "execution_count": null,
   "id": "3d68dab5-ad8a-4271-bd56-6a15bcd44581",
   "metadata": {},
   "outputs": [],
   "source": [
    "# Checksum (production = consumption)\n",
    "\n",
    "Storage_production_out = (model.solution['operation_storage_power_out']).rename({\"storage_technology\": \"conversion_technology\"})\n",
    "Storage_production_out['conversion_technology'] = [st+\"_out\" for st in selected_storage_technology]\n",
    "Storage_production_out.name = \"operation_conversion_power\"\n",
    "\n",
    "Storage_production_in = (-model.solution['operation_storage_power_in']).rename({\"storage_technology\": \"conversion_technology\"})\n",
    "Storage_production_in['conversion_technology'] = [st+\"_in\" for st in selected_storage_technology]\n",
    "Storage_production_in.name = \"operation_conversion_power\"\n",
    "production_xr = xr.concat([model.solution['operation_conversion_power'], Storage_production_out, Storage_production_in], dim=\"conversion_technology\")\n",
    "\n",
    "production_xr = xr.concat([model.solution['operation_conversion_power'],Storage_production_out, Storage_production_in], dim=\"conversion_technology\")\n",
    "production_df = EnergyAndExchange2Prod(model)\n",
    "\n",
    "\n",
    "assert abs(production_df.sum(axis=1) - parameters['exogenous_energy_demand'].to_dataframe()[\"exogenous_energy_demand\"]).max() < 10**-3"
   ]
  },
  {
   "cell_type": "code",
   "execution_count": null,
   "id": "e3c4e0c8-856b-4a4c-a21a-0e2ea88d0c39",
   "metadata": {},
   "outputs": [],
   "source": [
    "iii = model.solution['exchange_op_power'].sum(['area_to']).rename({\"area_from\": \"area_to\"})\n",
    "Exchange_pos = (model.solution['exchange_op_power'].sum(['area_from'])).rename({\"energy_vector_out\": \"conversion_technology\"})\n",
    "Exchange_pos[\"conversion_technology\"] = [\"import\"]\n",
    "Exchange_neg = (-iii).rename({\"energy_vector_out\": \"conversion_technology\"})\n",
    "Exchange_neg[\"conversion_technology\"] = [\"export\"]\n",
    "\n",
    "Exchange_pos.name = \"operation_conversion_power\"\n",
    "Exchange_neg.name = \"operation_conversion_power\"\n",
    "production_xr_ex=xr.concat([production_xr, Exchange_pos, Exchange_neg], dim=\"conversion_technology\")\n",
    "\n",
    "\n",
    "model.solution['operation_total_hourly_demand']\n",
    "model.solution[\"planning_flexible_demand_max_power_increase\"].max()\n",
    "\n",
    "Prod_minus_conso = production_xr_ex - model.solution['operation_total_hourly_demand']  # Storage\n",
    "abs(Prod_minus_conso).max()\n",
    "\n",
    "Storage_production = (model.solution['operation_storage_power_out'] - model.solution['operation_storage_power_in']).rename({\"storage_technology\": \"conversion_technology\"})\n",
    "Storage_production.name = \"operation_conversion_power\"\n",
    "production_xr = xr.combine_by_coords([model.solution['operation_conversion_power'], Storage_production])\n",
    "\n",
    "\n",
    "Storage_production.loc[{\"area_to\": \"FR\", \"conversion_technology\": \"battery\"}].min()\n",
    "Storage_production.loc[{\"area_to\": \"FR\", \"conversion_technology\": \"battery\"}].max()\n"
   ]
  },
  {
   "cell_type": "code",
   "execution_count": null,
   "id": "4b401618-85bd-41fe-a6d0-ac236f448d44",
   "metadata": {},
   "outputs": [],
   "source": [
    "production_df = production_xr.to_dataframe().reset_index().pivot(\n",
    "    index=\"date\",\n",
    "    columns='conversion_technology',\n",
    "    values='operation_conversion_power'\n",
    ")\n",
    "\n",
    "# Build figure\n",
    "fig = MyStackedPlotly(y_df=production_df, Conso=parameters['exogenous_energy_demand'].to_dataframe())\n",
    "fig = fig.update_layout(title_text=\"Production électrique (en KWh)\", xaxis_title=\"heures de l'année\", autosize=True)\n",
    "\n",
    "# Adjust the figure size\n",
    "fig.update_layout(height=600)\n",
    "fig.show()"
   ]
  },
  {
   "cell_type": "markdown",
   "id": "1569fd81-41e8-4a06-9989-37038c2c4b68",
   "metadata": {
    "jp-MarkdownHeadingCollapsed": true
   },
   "source": [
    "# Appendix"
   ]
  },
  {
   "cell_type": "code",
   "execution_count": null,
   "id": "5a6ba451-5e98-43b9-a2ed-48bffbe496c4",
   "metadata": {},
   "outputs": [],
   "source": [
    "# Sur le nombre de contraintes\n",
    "A_T = 4; A_ST = 3; D_A = 2; D_A_T = 4; D_A_ST = 5\n",
    "A = 7 ; ST =2 ; D = 8760 ; T = 10\n",
    "\n",
    "A*T*A_T + A*ST*A_ST + D*A*D_A + D*A*T*D_A_T + D*A*ST*D_A_ST"
   ]
  },
  {
   "cell_type": "code",
   "execution_count": null,
   "id": "36e71a37-9262-48f0-a350-a95e68be3925",
   "metadata": {},
   "outputs": [],
   "source": []
  },
  {
   "cell_type": "code",
   "execution_count": null,
   "id": "2dc71282-01c5-43ff-ac3e-7fa9ea0b59c1",
   "metadata": {},
   "outputs": [],
   "source": [
    "import plotly.graph_objects as go\n",
    "import numpy as np\n",
    "\n",
    "# Données fournies\n",
    "xvals = [0,1E-04,0.01,\t0.02,\t0.03,\t0.04,\t0.05,\t0.06,\t0.07,\t0.08,\t0.09,\t0.1]\n",
    "x_vals=[x*100 for x in xvals]\n",
    "y_vals = [x+1 for x in range(80)]\n",
    "import pandas as pd\n",
    "import numpy as np\n",
    "\n",
    "# Définir la fonction f(x, y)\n",
    "def Lr(r, L):\n",
    "    return ((1+r/100)**L -1)/(r/100*(r/100+1)**L)\n",
    "\n",
    "# Générer des valeurs pour x, y\n",
    "x_values = np.linspace(1, 10, 10)  # Exemple de valeurs pour x\n",
    "y_values = np.linspace(1, 80, 110)  # Exemple de valeurs pour y\n",
    "\n",
    "# Créer une grille 2D pour x et y\n",
    "x, y = np.meshgrid(x_values, y_values)\n",
    "\n",
    "# Appliquer la fonction f à la grille\n",
    "z = Lr(x, y).ravel()\n",
    "\n",
    "# Créer un DataFrame avec un double index construit avec x et y\n",
    "df = pd.DataFrame({'Corrected_LL': z}, index=pd.MultiIndex.from_product([x_values, y_values], names=['taux', 'Life_length']))\n",
    "\n",
    "fig = go.Figure()\n",
    "\n",
    "# Ajouter une surface 3D avec x, y et z\n",
    "contour = go.Contour(x=x_values, y=y_values, z=df['Corrected_LL'].values.reshape(x.shape), colorscale='Viridis', line=dict(smoothing=0.85), contours=dict(showlabels=True))\n",
    "fig.add_trace(contour)\n",
    "\n",
    "# Ajouter l'axe x, y et z\n",
    "fig.update_layout(\n",
    "    xaxis_title='Taux d\\'actualisation en %',\n",
    "    yaxis_title='Durée de vie en années',\n",
    "    title='Lignes de niveau discrètes de la durée de vie corrigée avec Plotly'\n",
    ")\n",
    "fig.show()"
   ]
  },
  {
   "cell_type": "code",
   "execution_count": null,
   "id": "cbdf576e-2de2-45f9-9b5f-fc16d267e739",
   "metadata": {},
   "outputs": [],
   "source": []
  }
 ],
 "metadata": {
  "kernelspec": {
   "display_name": "Python 3 (ipykernel)",
   "language": "python",
   "name": "python3"
  },
  "language_info": {
   "codemirror_mode": {
    "name": "ipython",
    "version": 3
   },
   "file_extension": ".py",
   "mimetype": "text/x-python",
   "name": "python",
   "nbconvert_exporter": "python",
   "pygments_lexer": "ipython3",
   "version": "3.11.6"
  }
 },
 "nbformat": 4,
 "nbformat_minor": 5
}
